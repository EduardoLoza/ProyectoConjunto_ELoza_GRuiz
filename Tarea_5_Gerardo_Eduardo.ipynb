{
 "cells": [
  {
   "cell_type": "markdown",
   "metadata": {},
   "source": [
    "<img style=\"float: left; margin: 30px 15px 15px 15px;\" src=\"https://pngimage.net/wp-content/uploads/2018/06/logo-iteso-png-5.png\" width=\"300\" height=\"500\" /> \n",
    "    \n",
    "    \n",
    "### <font color='navy'> Simulación de procesos financieros. \n",
    "\n",
    "**Nombres:** Gerardo Ruiz Velasco y Eduardo\n",
    "\n",
    "**Fecha:** 8 de marzo del 2021.\n",
    "\n",
    "**Expediente** : 715878 | . \n",
    "**Profesor:** Oscar David Jaramillo Zuluaga.\n",
    "\n",
    "**Link GitHub:**\n",
    "\n",
    "### Tarea 5: Clase 9"
   ]
  },
  {
   "cell_type": "markdown",
   "metadata": {},
   "source": [
    "># <font color ='red'> **Tarea 5** \n",
    "    \n",
    "> Para las siguiente dos funciones, genere muestres aleatorias que distribuyan según la función dada usando el método de la transformada inversa y grafique el histograma de 1000 muestras generadas con el método de la transformada inversa y compárela con el función $f(x)$ **(recuerde que $f(x)$ es la distribución de probabilidad y $F(x)$ es la distribución de probabilidad acumulada)** [ver este enlace para más información](https://es.wikipedia.org/wiki/Funci%C3%B3n_de_distribuci%C3%B3n). Este procedimiento se realiza con el fín de validar que el procedimiento y los resultados son correctos.\n",
    "    \n",
    "> 1. Generación variable aleatoria continua\n",
    ">El tiempo en el cual un movimiento browniano se mantiene sobre su punto máximo en el intervalo [0,1] tiene una distribución\n",
    ">$$F(x)=\\frac{2}{\\pi}\\sin^{-1}(\\sqrt x),\\quad 0\\leq x\\leq 1$$ </font>"
   ]
  },
  {
   "cell_type": "code",
   "execution_count": 28,
   "metadata": {},
   "outputs": [],
   "source": [
    "import numpy as np\n",
    "import matplotlib.pyplot as plt"
   ]
  },
  {
   "cell_type": "markdown",
   "metadata": {},
   "source": [
    "#### Despejamos x:\n",
    " $$\\frac{1}{\\sqrt {1-x}\\sqrt {x}\\pi}$$\n",
    "\n",
    "#### Función Inversa:\n",
    "$$x=\\sin^{2}(\\frac{\\mu\\pi}{2}) = F_i$$\n"
   ]
  },
  {
   "cell_type": "code",
   "execution_count": 61,
   "metadata": {},
   "outputs": [],
   "source": [
    "#Solución Gerardo\n",
    "def eje1(f, finv, N):\n",
    "    u=np.random.uniform(0,1,N)\n",
    "    frand=finv(u)\n",
    "    x=np.arange(0,1,.01)\n",
    "    fden=f(x)\n",
    "    plt.hist(frand,density=True, bins=50)#histograma de la función de proba\n",
    "    plt.plot(x,fden)#plot de la x despejada\n",
    "    plt.show()"
   ]
  },
  {
   "cell_type": "code",
   "execution_count": 62,
   "metadata": {},
   "outputs": [
    {
     "name": "stderr",
     "output_type": "stream",
     "text": [
      "C:\\Users\\Pica\\Anaconda3\\lib\\site-packages\\ipykernel_launcher.py:3: RuntimeWarning: divide by zero encountered in true_divide\n",
      "  This is separate from the ipykernel package so we can avoid doing imports until\n"
     ]
    },
    {
     "data": {
      "image/png": "[encoded data removed]",
      "text/plain": [
       "<Figure size 432x288 with 1 Axes>"
      ]
     },
     "metadata": {
      "needs_background": "light"
     },
     "output_type": "display_data"
    }
   ],
   "source": [
    "#Paránetros de entrada función eje1\n",
    "\n",
    "f = lambda x: 1/(np.pi*np.sqrt(1-x)*np.sqrt(x)) #Función de densidad de probabilidad \n",
    "finv = lambda u: np.sin(u*np.pi/2)**2 #x despejada\n",
    "N = 100000 #número de repeticiones \n",
    "eje1(f,finv,N)"
   ]
  },
  {
   "cell_type": "code",
   "execution_count": null,
   "metadata": {},
   "outputs": [],
   "source": [
    "#Solución Eduardo"
   ]
  },
  {
   "cell_type": "code",
   "execution_count": null,
   "metadata": {},
   "outputs": [],
   "source": []
  },
  {
   "cell_type": "markdown",
   "metadata": {},
   "source": [
    "> 2. Generación variable aleatoria Discreta\n",
    "> La distribución binomial modela el número de éxitos de n ensayos independientes donde hay una probabilidad p de éxito en cada ensayo.\n",
    "> Generar una variable aletoria binomial con parámetros $n=10$ y $p=0.7$. Recordar que $$X\\sim binomial(n,p) \\longrightarrow p_i=P(X=i)=\\frac{n!}{i!(n-i)!}p^i(1-p)^{n-i},\\quad i=0,1,\\cdots,n$$\n",
    "> Por propiedades de la operación factorial la anterior $p_i$ se puede escribir como:\n",
    "> $$p_{i+1}=\\frac{n-i}{i+1}\\frac{p}{1-p} p_i $$\n",
    "\n",
    "> **Nota:** Por notación recuerde que para el caso continuo $f(x)$ es la distribución de probabilidad (PDF), mientras $F(x)$ corresponde a la distribución de probabilidad acumulada (CDF). Para el caso discreto, $P(X=i)$ corresponde a su distribución de probabilidad (PMF) y $ F_{X}(x)=\\operatorname {P} (X\\leq x)=\\sum _{x_{i}\\leq x}\\operatorname {P} (X=x_{i})=\\sum _{x_{i}\\leq x}p(x_{i})$, corresponde a su distribución de probabilidad acumulada (CDF)."
   ]
  },
  {
   "cell_type": "code",
   "execution_count": null,
   "metadata": {},
   "outputs": [],
   "source": [
    "#Solución Gerardo"
   ]
  },
  {
   "cell_type": "code",
   "execution_count": 55,
   "metadata": {},
   "outputs": [],
   "source": [
    "def Gen_distr_discreta(X:'vector de números aleatorios',\n",
    "                       prob_acumulada: 'de la distribución a generar'):\n",
    "    v = np.array(list(map(lambda j:sum(1 for i in prob_acumulada if i<X[j]),range(N))))\n",
    "    return v\n",
    "\n",
    "def plot_histogram_discrete(dist:'señal de varibles aleatorias',\n",
    "                            label,\n",
    "                            den=True):\n",
    "    # len(set(distribucion)) cuenta la cantidad de elementos distintos de la variable 'distribucion'\n",
    "    plt.figure(figsize=[8,6])\n",
    "    y,x = np.histogram(dist,bins = len(set(dist)),density = den) \n",
    "    plt.bar(x[1:],y,label=label)\n",
    "    plt.legend()\n",
    "    plt.show()\n",
    "    \n",
    "def P_acum_Binomial(n,p):\n",
    "    Pr = np.zeros(n) #vector a llenar \n",
    "    Pr[0] = (1-p)**n \n",
    "    def pr(i):\n",
    "        nonlocal Pr\n",
    "        c  = p/(1-p)\n",
    "        Pr[i+1]=(c*(n-i)/(i+1))*Pr[i]\n",
    "        \n",
    "    # Comprensión de listas \n",
    "    [pr(i) for i in range(n-1)]\n",
    "    return np.cumsum(Pr)"
   ]
  },
  {
   "cell_type": "code",
   "execution_count": 57,
   "metadata": {},
   "outputs": [
    {
     "data": {
      "image/png": "[encoded data removed]",
      "text/plain": [
       "<Figure size 576x432 with 1 Axes>"
      ]
     },
     "metadata": {
      "needs_background": "light"
     },
     "output_type": "display_data"
    }
   ],
   "source": [
    "# Parametros de entrada\n",
    "n = 10; p = 0.7; N = 1000\n",
    "\n",
    "p_acum = P_acum_Binomial(n,p)\n",
    "u = np.random.rand(N)\n",
    "\n",
    "# Usando el método de la transformada inversa\n",
    "d_binomial = Gen_distr_discreta(u,p_acum)\n",
    "plot_histogram_discrete(d_binomial,'Metodo del a Transformada')"
   ]
  },
  {
   "cell_type": "code",
   "execution_count": null,
   "metadata": {},
   "outputs": [],
   "source": [
    "#Solución Eduardo"
   ]
  },
  {
   "cell_type": "code",
   "execution_count": null,
   "metadata": {},
   "outputs": [],
   "source": []
  }
 ],
 "metadata": {
  "kernelspec": {
   "display_name": "Python 3",
   "language": "python",
   "name": "python3"
  },
  "language_info": {
   "codemirror_mode": {
    "name": "ipython",
    "version": 3
   },
   "file_extension": ".py",
   "mimetype": "text/x-python",
   "name": "python",
   "nbconvert_exporter": "python",
   "pygments_lexer": "ipython3",
   "version": "3.7.1"
  }
 },
 "nbformat": 4,
 "nbformat_minor": 2
}
